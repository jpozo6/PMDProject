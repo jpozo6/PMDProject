{
 "cells": [
  {
   "cell_type": "markdown",
   "metadata": {
    "application/vnd.databricks.v1+cell": {
     "inputWidgets": {},
     "nuid": "96816ed7-b08a-4ca3-abb9-f99880c3535d",
     "showTitle": false,
     "title": ""
    }
   },
   "source": [
    "## Overview\n",
    "\n",
    "This notebook will show you how to create and query a table or DataFrame that you uploaded to DBFS. [DBFS](https://docs.databricks.com/user-guide/dbfs-databricks-file-system.html) is a Databricks File System that allows you to store data for querying inside of Databricks. This notebook assumes that you have a file already inside of DBFS that you would like to read from.\n",
    "\n",
    "This notebook is written in **Python** so the default cell type is Python. However, you can use different languages by using the `%LANGUAGE` syntax. Python, Scala, SQL, and R are all supported."
   ]
  },
  {
   "cell_type": "code",
   "execution_count": 1,
   "metadata": {
    "application/vnd.databricks.v1+cell": {
     "inputWidgets": {},
     "nuid": "9c9ba6de-2b4f-4e75-ba69-ac137f5c735e",
     "showTitle": false,
     "title": ""
    }
   },
   "outputs": [
    {
     "name": "stdout",
     "output_type": "stream",
     "text": [
      "Requirement already satisfied: mlflow in /home/jpozoc/miniconda3/envs/pyt3/lib/python3.9/site-packages (1.17.0)\n",
      "Requirement already satisfied: Flask in /home/jpozoc/miniconda3/envs/pyt3/lib/python3.9/site-packages (from mlflow) (2.0.0)\n",
      "Requirement already satisfied: entrypoints in /home/jpozoc/miniconda3/envs/pyt3/lib/python3.9/site-packages (from mlflow) (0.3)\n",
      "Requirement already satisfied: numpy in /home/jpozoc/miniconda3/envs/pyt3/lib/python3.9/site-packages (from mlflow) (1.19.2)\n",
      "Requirement already satisfied: querystring-parser in /home/jpozoc/miniconda3/envs/pyt3/lib/python3.9/site-packages (from mlflow) (1.2.4)\n",
      "Requirement already satisfied: prometheus-flask-exporter in /home/jpozoc/miniconda3/envs/pyt3/lib/python3.9/site-packages (from mlflow) (0.18.2)\n",
      "Requirement already satisfied: gitpython>=2.1.0 in /home/jpozoc/miniconda3/envs/pyt3/lib/python3.9/site-packages (from mlflow) (3.1.16)\n",
      "Requirement already satisfied: databricks-cli>=0.8.7 in /home/jpozoc/miniconda3/envs/pyt3/lib/python3.9/site-packages (from mlflow) (0.14.3)\n",
      "Requirement already satisfied: click>=7.0 in /home/jpozoc/miniconda3/envs/pyt3/lib/python3.9/site-packages (from mlflow) (8.0.0)\n",
      "Requirement already satisfied: requests>=2.17.3 in /home/jpozoc/miniconda3/envs/pyt3/lib/python3.9/site-packages (from mlflow) (2.25.1)\n",
      "Requirement already satisfied: cloudpickle in /home/jpozoc/miniconda3/envs/pyt3/lib/python3.9/site-packages (from mlflow) (1.6.0)\n",
      "Requirement already satisfied: protobuf>=3.6.0 in /home/jpozoc/miniconda3/envs/pyt3/lib/python3.9/site-packages (from mlflow) (3.17.0)\n",
      "Requirement already satisfied: sqlalchemy in /home/jpozoc/miniconda3/envs/pyt3/lib/python3.9/site-packages (from mlflow) (1.4.15)\n",
      "Requirement already satisfied: gunicorn in /home/jpozoc/miniconda3/envs/pyt3/lib/python3.9/site-packages (from mlflow) (20.1.0)\n",
      "Requirement already satisfied: docker>=4.0.0 in /home/jpozoc/miniconda3/envs/pyt3/lib/python3.9/site-packages (from mlflow) (5.0.0)\n",
      "Requirement already satisfied: pyyaml in /home/jpozoc/miniconda3/envs/pyt3/lib/python3.9/site-packages (from mlflow) (5.4.1)\n",
      "Requirement already satisfied: alembic<=1.4.1 in /home/jpozoc/miniconda3/envs/pyt3/lib/python3.9/site-packages (from mlflow) (1.4.1)\n",
      "Requirement already satisfied: pandas in /home/jpozoc/miniconda3/envs/pyt3/lib/python3.9/site-packages (from mlflow) (1.2.4)\n",
      "Requirement already satisfied: sqlparse>=0.3.1 in /home/jpozoc/miniconda3/envs/pyt3/lib/python3.9/site-packages (from mlflow) (0.4.1)\n",
      "Requirement already satisfied: pytz in /home/jpozoc/miniconda3/envs/pyt3/lib/python3.9/site-packages (from mlflow) (2021.1)\n",
      "Requirement already satisfied: python-dateutil in /home/jpozoc/miniconda3/envs/pyt3/lib/python3.9/site-packages (from alembic<=1.4.1->mlflow) (2.8.1)\n",
      "Requirement already satisfied: Mako in /home/jpozoc/miniconda3/envs/pyt3/lib/python3.9/site-packages (from alembic<=1.4.1->mlflow) (1.1.4)\n",
      "Requirement already satisfied: python-editor>=0.3 in /home/jpozoc/miniconda3/envs/pyt3/lib/python3.9/site-packages (from alembic<=1.4.1->mlflow) (1.0.4)\n",
      "Requirement already satisfied: tabulate>=0.7.7 in /home/jpozoc/miniconda3/envs/pyt3/lib/python3.9/site-packages (from databricks-cli>=0.8.7->mlflow) (0.8.9)\n",
      "Requirement already satisfied: six>=1.10.0 in /home/jpozoc/miniconda3/envs/pyt3/lib/python3.9/site-packages (from databricks-cli>=0.8.7->mlflow) (1.15.0)\n",
      "Requirement already satisfied: websocket-client>=0.32.0 in /home/jpozoc/miniconda3/envs/pyt3/lib/python3.9/site-packages (from docker>=4.0.0->mlflow) (0.59.0)\n",
      "Requirement already satisfied: gitdb<5,>=4.0.1 in /home/jpozoc/miniconda3/envs/pyt3/lib/python3.9/site-packages (from gitpython>=2.1.0->mlflow) (4.0.7)\n",
      "Requirement already satisfied: smmap<5,>=3.0.1 in /home/jpozoc/miniconda3/envs/pyt3/lib/python3.9/site-packages (from gitdb<5,>=4.0.1->gitpython>=2.1.0->mlflow) (4.0.0)\n",
      "Requirement already satisfied: certifi>=2017.4.17 in /home/jpozoc/miniconda3/envs/pyt3/lib/python3.9/site-packages (from requests>=2.17.3->mlflow) (2020.12.5)\n",
      "Requirement already satisfied: urllib3<1.27,>=1.21.1 in /home/jpozoc/miniconda3/envs/pyt3/lib/python3.9/site-packages (from requests>=2.17.3->mlflow) (1.26.3)\n",
      "Requirement already satisfied: chardet<5,>=3.0.2 in /home/jpozoc/miniconda3/envs/pyt3/lib/python3.9/site-packages (from requests>=2.17.3->mlflow) (4.0.0)\n",
      "Requirement already satisfied: idna<3,>=2.5 in /home/jpozoc/miniconda3/envs/pyt3/lib/python3.9/site-packages (from requests>=2.17.3->mlflow) (2.10)\n",
      "Requirement already satisfied: greenlet!=0.4.17 in /home/jpozoc/miniconda3/envs/pyt3/lib/python3.9/site-packages (from sqlalchemy->mlflow) (1.1.0)\n",
      "Requirement already satisfied: Werkzeug>=2.0 in /home/jpozoc/miniconda3/envs/pyt3/lib/python3.9/site-packages (from Flask->mlflow) (2.0.0)\n",
      "Requirement already satisfied: Jinja2>=3.0 in /home/jpozoc/miniconda3/envs/pyt3/lib/python3.9/site-packages (from Flask->mlflow) (3.0.0)\n",
      "Requirement already satisfied: itsdangerous>=2.0 in /home/jpozoc/miniconda3/envs/pyt3/lib/python3.9/site-packages (from Flask->mlflow) (2.0.0)\n",
      "Requirement already satisfied: MarkupSafe>=2.0.0rc2 in /home/jpozoc/miniconda3/envs/pyt3/lib/python3.9/site-packages (from Jinja2>=3.0->Flask->mlflow) (2.0.0)\n",
      "Requirement already satisfied: setuptools>=3.0 in /home/jpozoc/miniconda3/envs/pyt3/lib/python3.9/site-packages (from gunicorn->mlflow) (49.6.0.post20210108)\n",
      "Requirement already satisfied: prometheus-client in /home/jpozoc/miniconda3/envs/pyt3/lib/python3.9/site-packages (from prometheus-flask-exporter->mlflow) (0.9.0)\n"
     ]
    }
   ],
   "source": [
    "!pip install mlflow"
   ]
  },
  {
   "cell_type": "code",
   "execution_count": 2,
   "metadata": {},
   "outputs": [],
   "source": [
    "from pyspark.sql import SparkSession\n",
    "\n",
    "spark = SparkSession.builder \\\n",
    ".appName('app_name') \\\n",
    ".master('local[*]') \\\n",
    ".config('spark.sql.execution.arrow.pyspark.enabled', True) \\\n",
    ".config('spark.sql.session.timeZone', 'UTC') \\\n",
    ".config('spark.driver.memory','32G') \\\n",
    ".config('spark.ui.showConsoleProgress', True) \\\n",
    ".config('spark.sql.repl.eagerEval.enabled', True) \\\n",
    ".getOrCreate()"
   ]
  },
  {
   "cell_type": "code",
   "execution_count": 3,
   "metadata": {
    "application/vnd.databricks.v1+cell": {
     "inputWidgets": {},
     "nuid": "5d4de813-2af1-4e58-a0a2-7364e0a0d293",
     "showTitle": false,
     "title": ""
    }
   },
   "outputs": [
    {
     "name": "stdout",
     "output_type": "stream",
     "text": [
      "root\n",
      " |-- _c0: integer (nullable = true)\n",
      " |-- Hospital_code: integer (nullable = true)\n",
      " |-- Hospital_type_code: integer (nullable = true)\n",
      " |-- City_Code_Hospital: integer (nullable = true)\n",
      " |-- Hospital_region_code: integer (nullable = true)\n",
      " |-- Available Extra Rooms in Hospital: integer (nullable = true)\n",
      " |-- Department: integer (nullable = true)\n",
      " |-- Ward_Type: integer (nullable = true)\n",
      " |-- Ward_Facility_Code: integer (nullable = true)\n",
      " |-- Bed Grade: integer (nullable = true)\n",
      " |-- patientid: integer (nullable = true)\n",
      " |-- Type of Admission: integer (nullable = true)\n",
      " |-- Severity of Illness: integer (nullable = true)\n",
      " |-- Visitors with Patient: integer (nullable = true)\n",
      " |-- Age: integer (nullable = true)\n",
      " |-- Admission_Deposit: integer (nullable = true)\n",
      " |-- label: integer (nullable = true)\n",
      "\n"
     ]
    }
   ],
   "source": [
    "df = spark.read.csv('/home/jpozoc/barracuda/jpozoc/Ingenieria_Biomedica/4_INGENIERÍA_BIOMEDICA/2_CUATRIMESTRE/PMD/Notebooks/Hospital_SMOTE.csv', header = True, inferSchema = True)\n",
    "df.printSchema()"
   ]
  },
  {
   "cell_type": "code",
   "execution_count": 4,
   "metadata": {
    "application/vnd.databricks.v1+cell": {
     "inputWidgets": {},
     "nuid": "31968dc6-43d4-4ee3-bdd9-000392b0e227",
     "showTitle": false,
     "title": ""
    }
   },
   "outputs": [
    {
     "name": "stdout",
     "output_type": "stream",
     "text": [
      "+---+-------------+------------------+------------------+--------------------+---------------------------------+----------+---------+------------------+---------+---------+-----------------+-------------------+---------------------+---+-----------------+-----+\n",
      "|_c0|Hospital_code|Hospital_type_code|City_Code_Hospital|Hospital_region_code|Available Extra Rooms in Hospital|Department|Ward_Type|Ward_Facility_Code|Bed Grade|patientid|Type of Admission|Severity of Illness|Visitors with Patient|Age|Admission_Deposit|label|\n",
      "+---+-------------+------------------+------------------+--------------------+---------------------------------+----------+---------+------------------+---------+---------+-----------------+-------------------+---------------------+---+-----------------+-----+\n",
      "|  0|            8|                 2|                 3|                   2|                                3|         3|        2|                 5|        2|    31397|                0|                  0|                    2|  5|             4911|    0|\n",
      "|  1|            2|                 2|                 5|                   2|                                2|         3|        3|                 5|        2|    31397|                1|                  0|                    2|  5|             5954|    4|\n",
      "|  2|           10|                 4|                 1|                   0|                                2|         1|        3|                 4|        2|    31397|                1|                  0|                    2|  5|             4745|    3|\n",
      "|  3|           26|                 1|                 2|                   1|                                2|         3|        2|                 3|        2|    31397|                1|                  0|                    2|  5|             7272|    4|\n",
      "|  4|           26|                 1|                 2|                   1|                                2|         3|        3|                 3|        2|    31397|                1|                  0|                    2|  5|             5558|    4|\n",
      "+---+-------------+------------------+------------------+--------------------+---------------------------------+----------+---------+------------------+---------+---------+-----------------+-------------------+---------------------+---+-----------------+-----+\n",
      "only showing top 5 rows\n",
      "\n"
     ]
    }
   ],
   "source": [
    "df.show(5)"
   ]
  },
  {
   "cell_type": "code",
   "execution_count": 5,
   "metadata": {
    "application/vnd.databricks.v1+cell": {
     "inputWidgets": {},
     "nuid": "07228cb8-e943-4860-a7bd-d112ee5074f4",
     "showTitle": false,
     "title": ""
    }
   },
   "outputs": [],
   "source": [
    "from pyspark.ml.feature import VectorAssembler\n",
    "feature_list = []\n",
    "for col in df.columns:\n",
    "    if col == '_c0' or col == 'label':\n",
    "        continue\n",
    "    else:\n",
    "        feature_list.append(col)\n",
    "assembler = VectorAssembler(inputCols=feature_list, outputCol=\"features\")"
   ]
  },
  {
   "cell_type": "code",
   "execution_count": 6,
   "metadata": {
    "application/vnd.databricks.v1+cell": {
     "inputWidgets": {},
     "nuid": "a23cbec2-06eb-4c3f-92b4-fa892924cf04",
     "showTitle": false,
     "title": ""
    }
   },
   "outputs": [
    {
     "name": "stdout",
     "output_type": "stream",
     "text": [
      "['Hospital_code', 'Hospital_type_code', 'City_Code_Hospital', 'Hospital_region_code', 'Available Extra Rooms in Hospital', 'Department', 'Ward_Type', 'Ward_Facility_Code', 'Bed Grade', 'patientid', 'Type of Admission', 'Severity of Illness', 'Visitors with Patient', 'Age', 'Admission_Deposit']\n"
     ]
    }
   ],
   "source": [
    "print(feature_list)\n"
   ]
  },
  {
   "cell_type": "code",
   "execution_count": 7,
   "metadata": {
    "application/vnd.databricks.v1+cell": {
     "inputWidgets": {},
     "nuid": "74a7db4f-1c73-4433-81af-5059a956a820",
     "showTitle": false,
     "title": ""
    }
   },
   "outputs": [],
   "source": [
    "from pyspark.ml.classification import RandomForestClassifier\n",
    "rf = RandomForestClassifier(labelCol=\"label\", featuresCol=\"features\")"
   ]
  },
  {
   "cell_type": "code",
   "execution_count": 8,
   "metadata": {
    "application/vnd.databricks.v1+cell": {
     "inputWidgets": {},
     "nuid": "692a1489-74af-4dd9-9fef-6afc7c43a07c",
     "showTitle": false,
     "title": ""
    }
   },
   "outputs": [],
   "source": [
    "from pyspark.ml import Pipeline\n",
    "pipeline = Pipeline(stages=[assembler, rf])"
   ]
  },
  {
   "cell_type": "code",
   "execution_count": 9,
   "metadata": {
    "application/vnd.databricks.v1+cell": {
     "inputWidgets": {},
     "nuid": "a7a90f77-e99b-4838-8865-103d96bd7bac",
     "showTitle": false,
     "title": ""
    }
   },
   "outputs": [],
   "source": [
    "from pyspark.ml.tuning import ParamGridBuilder\n",
    "import numpy as np\n",
    "paramGrid = ParamGridBuilder() \\\n",
    "    .addGrid(rf.numTrees, [int(x) for x in np.linspace(start = 70, stop = 100, num = 10)]) \\\n",
    "    .addGrid(rf.maxDepth, [int(x) for x in np.linspace(start = 5, stop = 11, num = 2)]) \\\n",
    "    .build()"
   ]
  },
  {
   "cell_type": "code",
   "execution_count": 10,
   "metadata": {
    "application/vnd.databricks.v1+cell": {
     "inputWidgets": {},
     "nuid": "98f98a34-75dd-4f73-b626-5cc3905918a0",
     "showTitle": false,
     "title": ""
    }
   },
   "outputs": [],
   "source": [
    "from pyspark.ml.tuning import CrossValidator\n",
    "from pyspark.ml.evaluation import MulticlassClassificationEvaluator\n",
    "crossval = CrossValidator(estimator=pipeline,\n",
    "                          estimatorParamMaps=paramGrid,\n",
    "                          evaluator=MulticlassClassificationEvaluator(),\n",
    "                          numFolds=3)"
   ]
  },
  {
   "cell_type": "code",
   "execution_count": 11,
   "metadata": {
    "application/vnd.databricks.v1+cell": {
     "inputWidgets": {},
     "nuid": "32e50fe0-bc8c-46e9-849f-68f3067d7cd0",
     "showTitle": false,
     "title": ""
    }
   },
   "outputs": [],
   "source": [
    "(trainingData, testData) = df.randomSplit([0.8, 0.2])"
   ]
  },
  {
   "cell_type": "code",
   "execution_count": 12,
   "metadata": {
    "application/vnd.databricks.v1+cell": {
     "inputWidgets": {},
     "nuid": "4a246fa7-cc2c-41bd-bc07-fbe38d81f414",
     "showTitle": false,
     "title": ""
    }
   },
   "outputs": [],
   "source": [
    "cvModel = crossval.fit(trainingData)"
   ]
  },
  {
   "cell_type": "code",
   "execution_count": 13,
   "metadata": {
    "application/vnd.databricks.v1+cell": {
     "inputWidgets": {},
     "nuid": "0c1cbcd6-3562-4f34-99f8-4e1cae89771d",
     "showTitle": false,
     "title": ""
    }
   },
   "outputs": [],
   "source": [
    "predictions = cvModel.transform(testData)"
   ]
  },
  {
   "cell_type": "code",
   "execution_count": 14,
   "metadata": {},
   "outputs": [
    {
     "name": "stdout",
     "output_type": "stream",
     "text": [
      "Random Forest classifier Accuracy: 0.3724826984225949\n"
     ]
    }
   ],
   "source": [
    "multi_evaluator = MulticlassClassificationEvaluator(labelCol = 'label', metricName = 'accuracy')\n",
    "print('Random Forest classifier Accuracy:', multi_evaluator.evaluate(predictions))"
   ]
  },
  {
   "cell_type": "code",
   "execution_count": 15,
   "metadata": {},
   "outputs": [],
   "source": [
    "y_true = predictions.select(['label']).collect()\n",
    "y_pred = predictions.select(['prediction']).collect()"
   ]
  },
  {
   "cell_type": "code",
   "execution_count": 16,
   "metadata": {},
   "outputs": [],
   "source": [
    "from sklearn.metrics import classification_report, confusion_matrix"
   ]
  },
  {
   "cell_type": "code",
   "execution_count": 17,
   "metadata": {},
   "outputs": [
    {
     "name": "stdout",
     "output_type": "stream",
     "text": [
      "              precision    recall  f1-score   support\n",
      "\n",
      "           0       0.36      0.55      0.44     17469\n",
      "           1       0.35      0.44      0.39     17212\n",
      "           2       0.37      0.48      0.42     17722\n",
      "           3       0.39      0.08      0.13     17287\n",
      "           4       0.32      0.38      0.35     17436\n",
      "           5       0.31      0.21      0.25     17711\n",
      "           6       0.40      0.21      0.27     17550\n",
      "           7       0.29      0.24      0.26     17544\n",
      "           8       0.40      0.65      0.50     17436\n",
      "           9       0.38      0.37      0.38     17539\n",
      "          10       0.55      0.47      0.51     17562\n",
      "\n",
      "    accuracy                           0.37    192468\n",
      "   macro avg       0.37      0.37      0.35    192468\n",
      "weighted avg       0.37      0.37      0.35    192468\n",
      "\n"
     ]
    }
   ],
   "source": [
    "print(classification_report(y_true, y_pred))"
   ]
  },
  {
   "cell_type": "code",
   "execution_count": 18,
   "metadata": {},
   "outputs": [
    {
     "name": "stdout",
     "output_type": "stream",
     "text": [
      "[[ 9647  2341  1681    25  3004    30   522   106     0   113     0]\n",
      " [ 2369  7619  4316   421  1099   554   240   220   193   172     9]\n",
      " [ 1435  5632  8491   143  1010   194   282   159   145   173    58]\n",
      " [ 1860  2621  3256  1395  2038  2272   712  1142  1038   845   108]\n",
      " [ 4056  1173  1802    91  6669   322  1518   683   421   549   152]\n",
      " [ 1072   841  1103   864   721  3757   548  2886  3111  2347   461]\n",
      " [ 3192   675   920    58  4728   403  3622  1103  1275  1161   413]\n",
      " [  972   444   551   263   566  1889   649  4289  3084  3414  1423]\n",
      " [  533   203   122    89   194   800   274  1195 11389   788  1849]\n",
      " [  910   297   406   106   695  1186   510  2192  2418  6524  2295]\n",
      " [  487   206   152   103   188   651   244  1058  5060  1124  8289]]\n"
     ]
    }
   ],
   "source": [
    "print(confusion_matrix(y_true, y_pred))"
   ]
  },
  {
   "cell_type": "code",
   "execution_count": 24,
   "metadata": {
    "scrolled": true
   },
   "outputs": [
    {
     "name": "stdout",
     "output_type": "stream",
     "text": [
      "[[ 9647  2341  1681    25  3004    30   522   106     0   113     0]\n",
      " [ 2369  7619  4316   421  1099   554   240   220   193   172     9]\n",
      " [ 1435  5632  8491   143  1010   194   282   159   145   173    58]\n",
      " [ 1860  2621  3256  1395  2038  2272   712  1142  1038   845   108]\n",
      " [ 4056  1173  1802    91  6669   322  1518   683   421   549   152]\n",
      " [ 1072   841  1103   864   721  3757   548  2886  3111  2347   461]\n",
      " [ 3192   675   920    58  4728   403  3622  1103  1275  1161   413]\n",
      " [  972   444   551   263   566  1889   649  4289  3084  3414  1423]\n",
      " [  533   203   122    89   194   800   274  1195 11389   788  1849]\n",
      " [  910   297   406   106   695  1186   510  2192  2418  6524  2295]\n",
      " [  487   206   152   103   188   651   244  1058  5060  1124  8289]]\n"
     ]
    },
    {
     "data": {
      "image/png": "[encoded data removed]",
      "text/plain": [
       "<Figure size 1080x1080 with 2 Axes>"
      ]
     },
     "metadata": {
      "needs_background": "light"
     },
     "output_type": "display_data"
    }
   ],
   "source": [
    "import matplotlib.pyplot as plt\n",
    "from sklearn.metrics import confusion_matrix\n",
    "import seaborn as sns\n",
    "\n",
    "\n",
    "matrix = confusion_matrix(y_true, y_pred)\n",
    "print(matrix)\n",
    "\n",
    "plt.figure(figsize=(15,15))\n",
    "sns.heatmap(matrix,annot=True, square = True, fmt='g')\n",
    "plt.savefig(\"/home/jpozoc/barracuda/jpozoc/Ingenieria_Biomedica/4_INGENIERÍA_BIOMEDICA/2_CUATRIMESTRE/PMD/Notebooks/correlacion_confusion_pyspark.jpg\")\n",
    "plt.show()"
   ]
  },
  {
   "cell_type": "code",
   "execution_count": null,
   "metadata": {
    "application/vnd.databricks.v1+cell": {
     "inputWidgets": {},
     "nuid": "a28a90a1-c1cf-49fe-a6b0-5554f6cdf83b",
     "showTitle": false,
     "title": ""
    }
   },
   "outputs": [],
   "source": [
    "import matplotlib.pyplot as plt\n",
    "evaluator = MulticlassClassificationEvaluator(labelCol=\"label\", predictionCol=\"prediction\", metricName=\"accuracy\")\n",
    "accuracy = evaluator.evaluate(predictions)\n",
    "rfPred = cvModel.transform(df)\n",
    "rfResult = rfPred.toPandas()\n",
    "plt.plot(rfResult.label, rfResult.prediction, 'bo')\n",
    "plt.xlabel('Price')\n",
    "plt.ylabel('Prediction')\n",
    "plt.suptitle(\"Model Performance accuracy: %f\" % accuracy)\n",
    "plt.show()"
   ]
  },
  {
   "cell_type": "code",
   "execution_count": null,
   "metadata": {
    "application/vnd.databricks.v1+cell": {
     "inputWidgets": {},
     "nuid": "f3dc8870-42ad-442f-bce5-a731d9b826a6",
     "showTitle": false,
     "title": ""
    }
   },
   "outputs": [],
   "source": []
  }
 ],
 "metadata": {
  "application/vnd.databricks.v1+notebook": {
   "dashboards": [],
   "language": "python",
   "notebookMetadata": {
    "pythonIndentUnit": 2
   },
   "notebookName": "2021-05-09 - DBFS Example",
   "notebookOrigID": 1716494186399318,
   "widgets": {}
  },
  "kernelspec": {
   "display_name": "Python 3",
   "language": "python",
   "name": "python3"
  },
  "language_info": {
   "codemirror_mode": {
    "name": "ipython",
    "version": 3
   },
   "file_extension": ".py",
   "mimetype": "text/x-python",
   "name": "python",
   "nbconvert_exporter": "python",
   "pygments_lexer": "ipython3",
   "version": "3.9.2"
  }
 },
 "nbformat": 4,
 "nbformat_minor": 1
}
